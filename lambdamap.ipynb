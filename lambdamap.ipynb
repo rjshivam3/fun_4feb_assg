{
 "cells": [
  {
   "cell_type": "code",
   "execution_count": 2,
   "id": "25e5740a-5223-4478-b649-05936d117947",
   "metadata": {},
   "outputs": [],
   "source": [
    "# question 1 solved below"
   ]
  },
  {
   "cell_type": "code",
   "execution_count": 3,
   "id": "5226efd0-02d4-4da6-9886-c7b496549cca",
   "metadata": {},
   "outputs": [
    {
     "name": "stdout",
     "output_type": "stream",
     "text": [
      "[('Virat Kohli', 24936), ('Jack Kallis', 25534), ('Ricky Ponting', 27483), ('Sachin Tendulkar', 34357)]\n"
     ]
    }
   ],
   "source": [
    "l1 = [('Sachin Tendulkar', 34357), ('Ricky Ponting', 27483), ('Jack Kallis', 25534), ('Virat Kohli', 24936)]\n",
    "\n",
    "l2 = sorted(l1, key=lambda x: x[1])\n",
    "\n",
    "print(l2)\n"
   ]
  },
  {
   "cell_type": "code",
   "execution_count": 4,
   "id": "0acd61c4-acca-49e8-ab8d-3b26d5760b9f",
   "metadata": {},
   "outputs": [],
   "source": [
    "# question 2 solved below"
   ]
  },
  {
   "cell_type": "code",
   "execution_count": 5,
   "id": "aee3cfb5-f549-4ff5-b7b0-be975baad472",
   "metadata": {},
   "outputs": [
    {
     "name": "stdout",
     "output_type": "stream",
     "text": [
      "[1, 4, 9, 16, 25, 36, 49, 64, 81, 100]\n"
     ]
    }
   ],
   "source": [
    "l2 = [1, 2, 3, 4, 5, 6, 7, 8, 9, 10]\n",
    "\n",
    "l3 = list(map(lambda x: x**2, l2))\n",
    "\n",
    "print(l3)\n"
   ]
  },
  {
   "cell_type": "code",
   "execution_count": 6,
   "id": "5f120c8a-3513-46e8-b782-9e7d4dbdb20e",
   "metadata": {},
   "outputs": [],
   "source": [
    "# question 3 solved below"
   ]
  },
  {
   "cell_type": "code",
   "execution_count": 8,
   "id": "417b3299-ec90-4fad-acf3-5a65944a90a8",
   "metadata": {},
   "outputs": [
    {
     "name": "stdout",
     "output_type": "stream",
     "text": [
      "('1', '2', '3', '4', '5', '6', '7', '8', '9', '10')\n"
     ]
    }
   ],
   "source": [
    "list_1 = [1, 2, 3, 4, 5, 6, 7, 8, 9, 10]\n",
    "\n",
    "str_tuple = tuple(map(lambda x: str(x), list_1))\n",
    "\n",
    "print(str_tuple)\n"
   ]
  },
  {
   "cell_type": "code",
   "execution_count": 9,
   "id": "51f09b6b-ba89-4db8-933e-8a99083247bb",
   "metadata": {},
   "outputs": [],
   "source": [
    "# question 4 solved below"
   ]
  },
  {
   "cell_type": "code",
   "execution_count": 11,
   "id": "7ae57dba-434c-4e2f-9e0e-7c9f47020d89",
   "metadata": {},
   "outputs": [
    {
     "name": "stdout",
     "output_type": "stream",
     "text": [
      "15511210043330985984000000\n"
     ]
    }
   ],
   "source": [
    "from functools import reduce\n",
    "\n",
    "l4 = range(1, 26)\n",
    "\n",
    "product = reduce(lambda x, y: x * y, l4)\n",
    "\n",
    "print(product)\n",
    "\n"
   ]
  },
  {
   "cell_type": "code",
   "execution_count": 12,
   "id": "5b8c75e4-7398-4fe3-bf46-7dff74f23bd2",
   "metadata": {},
   "outputs": [],
   "source": [
    "# question 5 solved below"
   ]
  },
  {
   "cell_type": "code",
   "execution_count": 13,
   "id": "96551c98-53f6-45dd-9a0d-d2a56a93f838",
   "metadata": {},
   "outputs": [
    {
     "name": "stdout",
     "output_type": "stream",
     "text": [
      "[6, 60, 90, 120]\n"
     ]
    }
   ],
   "source": [
    "l5 = [2, 3, 6, 9, 27, 60, 90, 120, 55, 46]\n",
    "\n",
    "divi23 = list(filter(lambda x: x % 2 == 0 and x % 3 == 0, l5))\n",
    "\n",
    "print(divi23)\n"
   ]
  },
  {
   "cell_type": "code",
   "execution_count": 14,
   "id": "2466e6a6-f529-4b83-893e-f9158b0aac7e",
   "metadata": {},
   "outputs": [],
   "source": [
    "# question 6 solved below"
   ]
  },
  {
   "cell_type": "code",
   "execution_count": 17,
   "id": "2d9350c4-bdfe-4812-957c-3b58c377b029",
   "metadata": {},
   "outputs": [
    {
     "name": "stdout",
     "output_type": "stream",
     "text": [
      "['php', 'aba', 'radar', 'level']\n"
     ]
    }
   ],
   "source": [
    "l6 = ['python', 'php', 'aba', 'radar', 'level']\n",
    "\n",
    "palindromes = list(filter(lambda x: x == x[::-1], l6))\n",
    "\n",
    "print(palindromes)\n"
   ]
  },
  {
   "cell_type": "code",
   "execution_count": null,
   "id": "f2868bf1-9b1b-4d61-b3c3-60a5a95d55a8",
   "metadata": {},
   "outputs": [],
   "source": []
  }
 ],
 "metadata": {
  "kernelspec": {
   "display_name": "Python 3 (ipykernel)",
   "language": "python",
   "name": "python3"
  },
  "language_info": {
   "codemirror_mode": {
    "name": "ipython",
    "version": 3
   },
   "file_extension": ".py",
   "mimetype": "text/x-python",
   "name": "python",
   "nbconvert_exporter": "python",
   "pygments_lexer": "ipython3",
   "version": "3.10.8"
  }
 },
 "nbformat": 4,
 "nbformat_minor": 5
}
